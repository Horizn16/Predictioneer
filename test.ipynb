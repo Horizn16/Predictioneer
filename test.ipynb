{
 "cells": [
  {
   "cell_type": "code",
   "execution_count": 3,
   "metadata": {},
   "outputs": [],
   "source": [
    "import pandas as pd\n",
    "import numpy as np\n",
    "import matplotlib.pyplot as plt\n",
    "import seaborn as sns"
   ]
  },
  {
   "cell_type": "code",
   "execution_count": 5,
   "metadata": {},
   "outputs": [],
   "source": [
    "df=pd.read_csv(\"data/train.csv\")"
   ]
  },
  {
   "cell_type": "code",
   "execution_count": 6,
   "metadata": {},
   "outputs": [
    {
     "data": {
      "text/html": [
       "<div>\n",
       "<style scoped>\n",
       "    .dataframe tbody tr th:only-of-type {\n",
       "        vertical-align: middle;\n",
       "    }\n",
       "\n",
       "    .dataframe tbody tr th {\n",
       "        vertical-align: top;\n",
       "    }\n",
       "\n",
       "    .dataframe thead th {\n",
       "        text-align: right;\n",
       "    }\n",
       "</style>\n",
       "<table border=\"1\" class=\"dataframe\">\n",
       "  <thead>\n",
       "    <tr style=\"text-align: right;\">\n",
       "      <th></th>\n",
       "      <th>Lat</th>\n",
       "      <th>Long_</th>\n",
       "      <th>Deaths</th>\n",
       "      <th>Case_Fatality_Ratio</th>\n",
       "    </tr>\n",
       "  </thead>\n",
       "  <tbody>\n",
       "    <tr>\n",
       "      <th>1006</th>\n",
       "      <td>41.829727</td>\n",
       "      <td>-71.981823</td>\n",
       "      <td>NaN</td>\n",
       "      <td>1.097189</td>\n",
       "    </tr>\n",
       "    <tr>\n",
       "      <th>1323</th>\n",
       "      <td>40.472891</td>\n",
       "      <td>-90.208624</td>\n",
       "      <td>138.0</td>\n",
       "      <td>1.106745</td>\n",
       "    </tr>\n",
       "    <tr>\n",
       "      <th>3248</th>\n",
       "      <td>36.126843</td>\n",
       "      <td>-84.199658</td>\n",
       "      <td>NaN</td>\n",
       "      <td>1.417678</td>\n",
       "    </tr>\n",
       "    <tr>\n",
       "      <th>3976</th>\n",
       "      <td>50.619900</td>\n",
       "      <td>26.251600</td>\n",
       "      <td>NaN</td>\n",
       "      <td>1.479264</td>\n",
       "    </tr>\n",
       "    <tr>\n",
       "      <th>2106</th>\n",
       "      <td>46.069962</td>\n",
       "      <td>-94.897853</td>\n",
       "      <td>72.0</td>\n",
       "      <td>0.870722</td>\n",
       "    </tr>\n",
       "    <tr>\n",
       "      <th>2005</th>\n",
       "      <td>43.291239</td>\n",
       "      <td>-86.151767</td>\n",
       "      <td>NaN</td>\n",
       "      <td>1.477380</td>\n",
       "    </tr>\n",
       "    <tr>\n",
       "      <th>2752</th>\n",
       "      <td>48.766235</td>\n",
       "      <td>-97.552381</td>\n",
       "      <td>16.0</td>\n",
       "      <td>0.691145</td>\n",
       "    </tr>\n",
       "    <tr>\n",
       "      <th>1420</th>\n",
       "      <td>38.321180</td>\n",
       "      <td>-85.903854</td>\n",
       "      <td>NaN</td>\n",
       "      <td>1.385125</td>\n",
       "    </tr>\n",
       "    <tr>\n",
       "      <th>1101</th>\n",
       "      <td>32.402093</td>\n",
       "      <td>-82.077026</td>\n",
       "      <td>107.0</td>\n",
       "      <td>4.249404</td>\n",
       "    </tr>\n",
       "    <tr>\n",
       "      <th>1482</th>\n",
       "      <td>39.852335</td>\n",
       "      <td>-87.461605</td>\n",
       "      <td>82.0</td>\n",
       "      <td>1.716918</td>\n",
       "    </tr>\n",
       "  </tbody>\n",
       "</table>\n",
       "</div>"
      ],
      "text/plain": [
       "            Lat      Long_  Deaths  Case_Fatality_Ratio\n",
       "1006  41.829727 -71.981823     NaN             1.097189\n",
       "1323  40.472891 -90.208624   138.0             1.106745\n",
       "3248  36.126843 -84.199658     NaN             1.417678\n",
       "3976  50.619900  26.251600     NaN             1.479264\n",
       "2106  46.069962 -94.897853    72.0             0.870722\n",
       "2005  43.291239 -86.151767     NaN             1.477380\n",
       "2752  48.766235 -97.552381    16.0             0.691145\n",
       "1420  38.321180 -85.903854     NaN             1.385125\n",
       "1101  32.402093 -82.077026   107.0             4.249404\n",
       "1482  39.852335 -87.461605    82.0             1.716918"
      ]
     },
     "execution_count": 6,
     "metadata": {},
     "output_type": "execute_result"
    }
   ],
   "source": [
    "df.sample(10)"
   ]
  },
  {
   "cell_type": "code",
   "execution_count": null,
   "metadata": {},
   "outputs": [],
   "source": []
  }
 ],
 "metadata": {
  "kernelspec": {
   "display_name": "venv",
   "language": "python",
   "name": "python3"
  },
  "language_info": {
   "codemirror_mode": {
    "name": "ipython",
    "version": 3
   },
   "file_extension": ".py",
   "mimetype": "text/x-python",
   "name": "python",
   "nbconvert_exporter": "python",
   "pygments_lexer": "ipython3",
   "version": "3.12.3"
  }
 },
 "nbformat": 4,
 "nbformat_minor": 2
}
